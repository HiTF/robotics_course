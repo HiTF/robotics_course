{
 "cells": [
  {
   "cell_type": "markdown",
   "metadata": {
    "scrolled": true
   },
   "source": [
    "# Points of interest (3 pt.)"
   ]
  },
  {
   "cell_type": "markdown",
   "metadata": {},
   "source": [
    "Закомментированная часть - пример добавления своего фильтра. Фильтр Харриса возвращает очень маленькие значения, нужно придумать, как их визуализировать и подобрать параметры фильтра, чтобы он находил небольшое количество наиболее значимых точек интереса.\n",
    "\n",
    "Для ускорения вычислений размер картинки уменьшается в 3 раза по каждому измерению, с этим можно экспериментировать."
   ]
  },
  {
   "cell_type": "code",
   "execution_count": null,
   "metadata": {},
   "outputs": [],
   "source": [
    "import cv2\n",
    "import time\n",
    "import os\n",
    "import math\n",
    "import sys\n",
    "from matplotlib import pyplot as plt\n",
    "\n",
    "sys.path.append(\"/Users/elijah/Dropbox/Programming/adelaida/modules/\")\n",
    "\n",
    "import input_output\n",
    "import processor\n",
    "\n",
    "det = processor.Processors ()\n",
    "det.add_processor (\"keypoints extr\")\n",
    "\n",
    "det.add_filter (processor.resize (downscale_factor_ = 3),\n",
    "                \"keypoints extr\", \"downscale\")\n",
    "det.add_filter (processor.colorspace_to_colorspace (\"RGB\", \"GRAY\"),\n",
    "                \"keypoints extr\", \"colorspaces change\")\n",
    "\n",
    "\n",
    "# bsz = 1 #block size\n",
    "# asz = 3 #aperture size\n",
    "# k   = 0.01 #alg parameter\n",
    "\n",
    "# det.add_filter (processor.custom_operation (lambda img : cv2.cornerHarris\n",
    "#     (img, bsz, asz, k), \"harris filter\"), \"keypoints extr\", \"harris filter\")\n",
    "\n",
    "source  = input_output.Source (\"-1\")\n",
    "\n",
    "while (True):\n",
    "    frame = source.get_frame ()\n",
    "\n",
    "    result, success = det.process (frame, \"keypoints extr\")\n",
    "\n",
    "    cv2.imshow (\"harris\", result)\n",
    "    \n",
    "    time.sleep (0.02)\n",
    "\n",
    "    keyb = cv2.waitKey (1) & 0xFF\n",
    "\n",
    "    if (keyb == ord('q')):\n",
    "        break\n",
    "\n",
    "cv2.destroyAllWindows()"
   ]
  },
  {
   "cell_type": "markdown",
   "metadata": {},
   "source": [
    "# Filtering&Hand extraction (4 pt.)"
   ]
  },
  {
   "cell_type": "markdown",
   "metadata": {},
   "source": [
    "Copy the example from the seminar, add properly used filter_connected_components filter and morphology filter from processors.py and tune the ranges so that you can robustly detect object of your choice. It can be you hand, your favorite mug, colored sticker, anything. Try different approaches :)"
   ]
  },
  {
   "cell_type": "code",
   "execution_count": null,
   "metadata": {},
   "outputs": [],
   "source": []
  },
  {
   "cell_type": "markdown",
   "metadata": {},
   "source": []
  },
  {
   "cell_type": "markdown",
   "metadata": {},
   "source": []
  },
  {
   "cell_type": "code",
   "execution_count": null,
   "metadata": {},
   "outputs": [],
   "source": []
  },
  {
   "cell_type": "code",
   "execution_count": null,
   "metadata": {},
   "outputs": [],
   "source": []
  },
  {
   "cell_type": "code",
   "execution_count": null,
   "metadata": {},
   "outputs": [],
   "source": []
  }
 ],
 "metadata": {
  "kernelspec": {
   "display_name": "Python 3",
   "language": "python",
   "name": "python3"
  },
  "language_info": {
   "codemirror_mode": {
    "name": "ipython",
    "version": 3
   },
   "file_extension": ".py",
   "mimetype": "text/x-python",
   "name": "python",
   "nbconvert_exporter": "python",
   "pygments_lexer": "ipython3",
   "version": "3.7.3"
  }
 },
 "nbformat": 4,
 "nbformat_minor": 2
}
