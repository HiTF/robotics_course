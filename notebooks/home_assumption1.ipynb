{
 "cells": [
  {
   "cell_type": "code",
   "execution_count": 1,
   "metadata": {
    "scrolled": true
   },
   "outputs": [],
   "source": [
    "import cv2\n",
    "import time\n",
    "import os\n",
    "import math\n",
    "import sys\n",
    "from matplotlib import pyplot as plt\n",
    "\n",
    "sys.path.append(\"/Users/elijah/Dropbox/Programming/adelaida/modules/\")\n",
    "\n",
    "import input_output\n",
    "import processor\n",
    "\n",
    "det = processor.Processors ()\n",
    "det.add_processor (\"basket\")\n",
    "\n",
    "# #gamma correction (lighting conditions change simulation) and online tuning\n",
    "# det.add_filter (processor.gamma_correction (1), \"basket\", \"gamma correction\")\n",
    "# cv2.namedWindow ('trackbars')\n",
    "# cv2.createTrackbar (\"gamma\", \"trackbars\", 100, 200, \n",
    "#     lambda new_coeff : det.processors [\"basket\"] [\"gamma correction\"].set_gamma (float (new_coeff) / 100))\n",
    "\n",
    "det.add_filter (processor.colorspace_to_colorspace (\"RGB\", \"HSV\"),\n",
    "                \"basket\", \"colorspaces change 1\")\n",
    "\n",
    "low_th  = (35, 15, 50)\n",
    "high_th = (60, 75, 135)\n",
    "det.add_filter (processor.inrange (low_th, high_th), \"basket\", \"inrange rgb\")\n",
    "\n",
    "# low_th  = (35, 15, 50)\n",
    "# high_th = (60, 75, 135)\n",
    "# det.add_filter (processor.inrange (low_th, high_th), \"basket\", \"inrange hsv\")\n",
    "\n",
    "#filtering\n",
    "\n",
    "#bbox extraction\n",
    "\n",
    "source = input_output.Source (\"/Users/elijah/Dropbox/Programming/adelaida/data/images/rgb_basket.jpg\")\n",
    "#source  = input_output.Source (\"/Users/elijah/Dropbox/Programming/detectors/data/output.avi\")\n",
    "#source  = input_output.Source (\"-1\")\n",
    "\n",
    "while (True):\n",
    "    frame = source.get_frame ()\n",
    "\n",
    "    mask, success = det.process (frame, \"basket\")\n",
    "\n",
    "    stages = det.get_stages (\"basket\")\n",
    "\n",
    "    #concat?\n",
    "    for i in range (len (stages)):\n",
    "        cv2.imshow (str (i), stages [i])\n",
    "        \n",
    "    time.sleep (0.02)\n",
    "\n",
    "    keyb = cv2.waitKey (1) & 0xFF\n",
    "\n",
    "    if (keyb == ord('q')):\n",
    "        break\n",
    "\n",
    "cv2.destroyAllWindows()"
   ]
  },
  {
   "cell_type": "code",
   "execution_count": 4,
   "metadata": {},
   "outputs": [],
   "source": []
  },
  {
   "cell_type": "code",
   "execution_count": null,
   "metadata": {},
   "outputs": [],
   "source": []
  },
  {
   "cell_type": "code",
   "execution_count": null,
   "metadata": {},
   "outputs": [],
   "source": []
  },
  {
   "cell_type": "code",
   "execution_count": null,
   "metadata": {},
   "outputs": [],
   "source": []
  }
 ],
 "metadata": {
  "kernelspec": {
   "display_name": "Python 3",
   "language": "python",
   "name": "python3"
  },
  "language_info": {
   "codemirror_mode": {
    "name": "ipython",
    "version": 3
   },
   "file_extension": ".py",
   "mimetype": "text/x-python",
   "name": "python",
   "nbconvert_exporter": "python",
   "pygments_lexer": "ipython3",
   "version": "3.7.3"
  }
 },
 "nbformat": 4,
 "nbformat_minor": 2
}
