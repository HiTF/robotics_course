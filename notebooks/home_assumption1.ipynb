{
 "cells": [
  {
   "cell_type": "markdown",
   "metadata": {
    "scrolled": true
   },
   "source": [
    "# Points of interest (3 pt.)"
   ]
  },
  {
   "cell_type": "markdown",
   "metadata": {},
   "source": [
    "The commented part is an example of custom_operation filter usage. With these paramenters Harris detector does not give anything satisfying, you are free to write/use any code you want to.\n",
    "\n",
    "The desired outcome of this section is a detector of the points of interest, drawing them over the original image with reasonable FPS. This is why the input image is heavily downscaled, you can change the factor if needed."
   ]
  },
  {
   "cell_type": "code",
   "execution_count": null,
   "metadata": {},
   "outputs": [],
   "source": [
    "import cv2\n",
    "import time\n",
    "import os\n",
    "import math\n",
    "import sys\n",
    "from matplotlib import pyplot as plt\n",
    "\n",
    "sys.path.append(\"/Users/elijah/Dropbox/Programming/adelaida/modules/\")\n",
    "\n",
    "import input_output\n",
    "import processor\n",
    "\n",
    "det = processor.Processors ()\n",
    "det.add_processor (\"keypoints extr\")\n",
    "\n",
    "det.add_filter (processor.resize (downscale_factor_ = 3),\n",
    "                \"keypoints extr\", \"downscale\")\n",
    "det.add_filter (processor.colorspace_to_colorspace (\"RGB\", \"GRAY\"),\n",
    "                \"keypoints extr\", \"colorspaces change\")\n",
    "\n",
    "\n",
    "# bsz = 1 #block size\n",
    "# asz = 3 #aperture size\n",
    "# k   = 0.01 #alg parameter\n",
    "\n",
    "# det.add_filter (processor.custom_operation (lambda img : cv2.cornerHarris\n",
    "#     (img, bsz, asz, k), \"harris filter\"), \"keypoints extr\", \"harris filter\")\n",
    "\n",
    "source  = input_output.Source (\"-1\")\n",
    "\n",
    "while (True):\n",
    "    frame = source.get_frame ()\n",
    "\n",
    "    result, success = det.process (frame, \"keypoints extr\")\n",
    "\n",
    "    cv2.imshow (\"harris\", result)\n",
    "    \n",
    "    time.sleep (0.02)\n",
    "\n",
    "    keyb = cv2.waitKey (1) & 0xFF\n",
    "\n",
    "    if (keyb == ord('q')):\n",
    "        break\n",
    "\n",
    "cv2.destroyAllWindows()"
   ]
  },
  {
   "cell_type": "markdown",
   "metadata": {},
   "source": [
    "# Filtering&Hand extraction (4 pt.)"
   ]
  },
  {
   "cell_type": "markdown",
   "metadata": {},
   "source": [
    "Copy the example from the seminar, add properly used filter_connected_components filter and morphology filter from processors.py and tune the ranges so that you can robustly detect object of your choice. It can be you hand, your favorite mug, colored sticker, anything. Try different"
   ]
  },
  {
   "cell_type": "code",
   "execution_count": null,
   "metadata": {},
   "outputs": [],
   "source": []
  },
  {
   "cell_type": "markdown",
   "metadata": {},
   "source": [
    "# Fingers counting (6 pt.)"
   ]
  },
  {
   "cell_type": "markdown",
   "metadata": {},
   "source": [
    "Implement a working demo that outputs the number of fingers it has found in the imput frame. It is TOTALLY FINE, if the whole pipeline is not robust, or, roughly speaking, works correctly in special conditions: with a certain lighting, for just one specific person.\n",
    "\n",
    "Save a short video with the running demo and attach it with the home assignment.\n",
    "\n",
    "You are highly encouraged to use the previous results or any sources that you need."
   ]
  },
  {
   "cell_type": "code",
   "execution_count": null,
   "metadata": {},
   "outputs": [],
   "source": []
  },
  {
   "cell_type": "code",
   "execution_count": null,
   "metadata": {},
   "outputs": [],
   "source": []
  },
  {
   "cell_type": "code",
   "execution_count": null,
   "metadata": {},
   "outputs": [],
   "source": []
  }
 ],
 "metadata": {
  "kernelspec": {
   "display_name": "Python 3",
   "language": "python",
   "name": "python3"
  },
  "language_info": {
   "codemirror_mode": {
    "name": "ipython",
    "version": 3
   },
   "file_extension": ".py",
   "mimetype": "text/x-python",
   "name": "python",
   "nbconvert_exporter": "python",
   "pygments_lexer": "ipython3",
   "version": "3.7.3"
  }
 },
 "nbformat": 4,
 "nbformat_minor": 2
}
